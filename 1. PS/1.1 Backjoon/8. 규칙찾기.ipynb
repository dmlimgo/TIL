{
 "cells": [
  {
   "cell_type": "markdown",
   "metadata": {},
   "source": [
    "### 2438 별 찍기 - 1"
   ]
  },
  {
   "cell_type": "markdown",
   "metadata": {},
   "source": [
    "###  2292 벌집"
   ]
  },
  {
   "cell_type": "code",
   "execution_count": 30,
   "metadata": {},
   "outputs": [
    {
     "name": "stdout",
     "output_type": "stream",
     "text": [
      "1000000000\n",
      "18258\n"
     ]
    }
   ],
   "source": [
    "n = int(input())\n",
    "pib = 0\n",
    "for i in range(n):\n",
    "    pib += i\n",
    "    if n == 1:\n",
    "        print(1)\n",
    "    elif (1 + 6 * pib) < n and n <= (1 + 6 * (pib + i +1)):\n",
    "        print(i+2)\n",
    "        break"
   ]
  },
  {
   "cell_type": "markdown",
   "metadata": {},
   "source": [
    "### 1193 분수찾기"
   ]
  },
  {
   "cell_type": "markdown",
   "metadata": {},
   "source": [
    "100번째 구하려면\n",
    "1+2+3...n 한 것이 100쯤 이어야함\n",
    "1,3,6,10,15,21,28,36,45,55,66,78,91(n=13),105(n=14)"
   ]
  },
  {
   "cell_type": "code",
   "execution_count": 66,
   "metadata": {},
   "outputs": [
    {
     "name": "stdout",
     "output_type": "stream",
     "text": [
      "7\n",
      "1/4\n"
     ]
    }
   ],
   "source": [
    "x = int(input())\n",
    "\n",
    "air = 0\n",
    "for i in range(1, x+1):\n",
    "    air += i\n",
    "    if air-i < x and x <= air:\n",
    "        if (i+1) % 2:\n",
    "            bunja = i - (air - x)\n",
    "            bunmo = (air - x) + 1\n",
    "        else:\n",
    "            bunja = (air - x) + 1\n",
    "            bunmo = i+1 - bunja\n",
    "            \n",
    "print(f'{bunja}/{bunmo}')"
   ]
  },
  {
   "cell_type": "markdown",
   "metadata": {},
   "source": [
    "### 1011 Fly me to the Alpha Centauri"
   ]
  },
  {
   "cell_type": "code",
   "execution_count": 2,
   "metadata": {},
   "outputs": [
    {
     "name": "stdout",
     "output_type": "stream",
     "text": [
      "1\n",
      "0 2147483647\n"
     ]
    },
    {
     "ename": "MemoryError",
     "evalue": "",
     "output_type": "error",
     "traceback": [
      "\u001b[1;31m---------------------------------------------------------------------------\u001b[0m",
      "\u001b[1;31mMemoryError\u001b[0m                               Traceback (most recent call last)",
      "\u001b[1;32m<ipython-input-2-466936ea96e2>\u001b[0m in \u001b[0;36m<module>\u001b[1;34m\u001b[0m\n\u001b[0;32m      8\u001b[0m     \u001b[1;32mfor\u001b[0m \u001b[0mi\u001b[0m \u001b[1;32min\u001b[0m \u001b[0mrange\u001b[0m\u001b[1;33m(\u001b[0m\u001b[1;36m1\u001b[0m\u001b[1;33m,\u001b[0m \u001b[0mdif\u001b[0m\u001b[1;33m+\u001b[0m\u001b[1;36m2\u001b[0m\u001b[1;33m)\u001b[0m\u001b[1;33m:\u001b[0m\u001b[1;33m\u001b[0m\u001b[1;33m\u001b[0m\u001b[0m\n\u001b[0;32m      9\u001b[0m         \u001b[0mresult\u001b[0m \u001b[1;33m+=\u001b[0m \u001b[0mi\u001b[0m\u001b[1;33m\u001b[0m\u001b[1;33m\u001b[0m\u001b[0m\n\u001b[1;32m---> 10\u001b[1;33m         \u001b[0mn_list\u001b[0m\u001b[1;33m.\u001b[0m\u001b[0mappend\u001b[0m\u001b[1;33m(\u001b[0m\u001b[0mresult\u001b[0m\u001b[1;33m)\u001b[0m\u001b[1;33m\u001b[0m\u001b[1;33m\u001b[0m\u001b[0m\n\u001b[0m\u001b[0;32m     11\u001b[0m         \u001b[0mresult\u001b[0m \u001b[1;33m+=\u001b[0m \u001b[0mi\u001b[0m\u001b[1;33m\u001b[0m\u001b[1;33m\u001b[0m\u001b[0m\n\u001b[0;32m     12\u001b[0m         \u001b[0mn_list\u001b[0m\u001b[1;33m.\u001b[0m\u001b[0mappend\u001b[0m\u001b[1;33m(\u001b[0m\u001b[0mresult\u001b[0m\u001b[1;33m)\u001b[0m\u001b[1;33m\u001b[0m\u001b[1;33m\u001b[0m\u001b[0m\n",
      "\u001b[1;31mMemoryError\u001b[0m: "
     ]
    }
   ],
   "source": [
    "t = int(input())\n",
    "for each in range(t):\n",
    "    xy = list(map(int, input().split()))\n",
    "    dif = xy[1] - xy[0]\n",
    "    \n",
    "    result = 1\n",
    "    i = 1\n",
    "    while True:\n",
    "        if (result <= dif) and (dif < result + i):\n",
    "            print(i*2-1)\n",
    "            break\n",
    "        result += i\n",
    "        if (result <= dif) and (dif < result + i):\n",
    "            print(i*2)\n",
    "            break\n",
    "        result += i\n",
    "        i += 1"
   ]
  },
  {
   "cell_type": "markdown",
   "metadata": {},
   "source": [
    "### 10250 ACM 호텔"
   ]
  },
  {
   "cell_type": "code",
   "execution_count": 22,
   "metadata": {},
   "outputs": [
    {
     "name": "stdout",
     "output_type": "stream",
     "text": [
      "2\n",
      "4 4 16\n",
      "(4, 0)\n",
      "404\n",
      "99 99 9801\n",
      "(99, 0)\n",
      "9999\n"
     ]
    }
   ],
   "source": [
    "T = int(input())\n",
    "result = 0\n",
    "for i in range(T):\n",
    "    hwn = list(map(int, input().split()))\n",
    "    modded = divmod(hwn[2], hwn[0])\n",
    "    if modded[1]:\n",
    "        print(modded[1] * 100 + modded[0] + 1)\n",
    "    else:\n",
    "        print(hwn[0] * 100 + modded[0])"
   ]
  },
  {
   "cell_type": "markdown",
   "metadata": {},
   "source": [
    "### 2775 부녀회장이 될테야"
   ]
  },
  {
   "cell_type": "code",
   "execution_count": 5,
   "metadata": {},
   "outputs": [
    {
     "name": "stdout",
     "output_type": "stream",
     "text": [
      "2\n",
      "1\n",
      "3\n",
      "6\n",
      "2\n",
      "3\n",
      "10\n"
     ]
    }
   ],
   "source": [
    "result = [[1,2,3,4,5,6,7,8,9,10,11,12,13,14]]\n",
    "for floor in range(1, 15):\n",
    "    rooms = []\n",
    "    for room in range(1, 15):\n",
    "        x = 0\n",
    "        for i in range(1, room+1):\n",
    "            x += result[floor-1][i-1] \n",
    "        rooms.append(x)\n",
    "    result.append(rooms)\n",
    "T = int(input())\n",
    "for i in range(T):\n",
    "    k = int(input())\n",
    "    n = int(input())\n",
    "    print(result[k][n-1])"
   ]
  },
  {
   "cell_type": "markdown",
   "metadata": {},
   "source": [
    "### 1475 방 번호"
   ]
  },
  {
   "cell_type": "code",
   "execution_count": 23,
   "metadata": {},
   "outputs": [
    {
     "name": "stdout",
     "output_type": "stream",
     "text": [
      "666991233\n",
      "3\n"
     ]
    }
   ],
   "source": [
    "N = input().replace('6','9')\n",
    "cnt = []\n",
    "for i in range(10):\n",
    "    cnt.append(N.count(str(i)))\n",
    "max_l = max(cnt[:9])\n",
    "max_h = max(cnt[-1:])\n",
    "if int((max_h+1) / 2) > max_l:\n",
    "    print(int((max_h+1) / 2))\n",
    "else:\n",
    "    print(max_l)"
   ]
  },
  {
   "cell_type": "markdown",
   "metadata": {},
   "source": [
    "### 6064 카잉 달력"
   ]
  },
  {
   "cell_type": "code",
   "execution_count": 1,
   "metadata": {},
   "outputs": [
    {
     "name": "stdout",
     "output_type": "stream",
     "text": [
      "1\n",
      "40000 39999 39999 39998\n",
      "1599959999\n"
     ]
    }
   ],
   "source": [
    "T = int(input())\n",
    "for i in range(T):\n",
    "    MNxy = list(map(int, input().split()))\n",
    "    M = MNxy[0]\n",
    "    N = MNxy[1]\n",
    "    x = MNxy[2]\n",
    "    y = MNxy[3]\n",
    "    \n",
    "if x % N:\n",
    "    first_y = x % N\n",
    "else:\n",
    "    first_y = N\n",
    "\n",
    "y_d = (y - first_y) / (M - N)\n",
    "t_d = x + M * y_d\n",
    "if y_d == int(y_d):\n",
    "    print(t_d)\n",
    "else:\n",
    "    print(-1)"
   ]
  },
  {
   "cell_type": "code",
   "execution_count": 1,
   "metadata": {},
   "outputs": [
    {
     "data": {
      "text/plain": [
       "(82, 4)"
      ]
     },
     "execution_count": 1,
     "metadata": {},
     "output_type": "execute_result"
    }
   ],
   "source": [
    "divmod(496, 6)"
   ]
  },
  {
   "cell_type": "code",
   "execution_count": null,
   "metadata": {},
   "outputs": [],
   "source": [
    "T = int(input())\n",
    "for i in range(T):\n",
    "    MNxy = list(map(int, input().split()))\n",
    "    M = MNxy[0]\n",
    "    N = MNxy[1]\n",
    "    x = MNxy[2]\n",
    "    y = MNxy[3]\n",
    "    \n",
    "    cnt = 0\n",
    "    while True:\n",
    "        x = x + (M-N)\n",
    "        cnt += 1\n",
    "        if x > N:\n",
    "            x -= N\n",
    "        elif x < 1:\n",
    "            x += N\n",
    "        if y == x:\n",
    "            x = MNxy[2]\n",
    "            result = x + M * cnt\n",
    "            print(result)\n",
    "            break\n",
    "        if cnt > ((M*N)/M):\n",
    "            print(-1)\n",
    "            break"
   ]
  },
  {
   "cell_type": "markdown",
   "metadata": {},
   "source": [
    "### 알고리즘 수업"
   ]
  },
  {
   "cell_type": "code",
   "execution_count": 69,
   "metadata": {},
   "outputs": [
    {
     "name": "stdout",
     "output_type": "stream",
     "text": [
      "8 [4, 2, 0, 0, 6, 0, 7, 0] 7\n",
      "7 [2, 0, 0, 6, 0, 7, 0] 5\n",
      "6 [0, 0, 6, 0, 7, 0] 4\n",
      "5 [0, 6, 0, 7, 0] 0\n",
      "4 [6, 0, 7, 0] 0\n",
      "3 [0, 7, 0] 2\n",
      "2 [7, 0] 0\n",
      "1 [0] 1\n",
      "0 [] 0\n",
      "[7, 4, 2, 0, 0, 6, 0, 7, 0] 7\n"
     ]
    }
   ],
   "source": [
    "import random\n",
    "\n",
    "# data = [0]*100\n",
    "# for i in range(0, 100):\n",
    "#     ran_val = random.randint(0,100)\n",
    "#     data[i] = ran_val\n",
    "\n",
    "data=[7,4,2,0,0,6,0,7,0]\n",
    "    \n",
    "max_fall = 0\n",
    "for idx, val in enumerate(data):\n",
    "    fall = len(data) - (idx + 1)\n",
    "    for n_val in data[idx+1:]:\n",
    "        if val <= n_val:\n",
    "            fall -= 1\n",
    "    if max_fall <= fall:\n",
    "        max_fall = fall\n",
    "print(data, max_fall)"
   ]
  },
  {
   "cell_type": "code",
   "execution_count": null,
   "metadata": {},
   "outputs": [],
   "source": [
    "for i in range(10): #testcase\n",
    "    "
   ]
  },
  {
   "cell_type": "code",
   "execution_count": null,
   "metadata": {},
   "outputs": [],
   "source": []
  },
  {
   "cell_type": "code",
   "execution_count": null,
   "metadata": {},
   "outputs": [],
   "source": []
  },
  {
   "cell_type": "code",
   "execution_count": null,
   "metadata": {},
   "outputs": [],
   "source": []
  },
  {
   "cell_type": "code",
   "execution_count": null,
   "metadata": {},
   "outputs": [],
   "source": []
  },
  {
   "cell_type": "code",
   "execution_count": null,
   "metadata": {},
   "outputs": [],
   "source": []
  }
 ],
 "metadata": {
  "kernelspec": {
   "display_name": "Python 3",
   "language": "python",
   "name": "python3"
  },
  "language_info": {
   "codemirror_mode": {
    "name": "ipython",
    "version": 3
   },
   "file_extension": ".py",
   "mimetype": "text/x-python",
   "name": "python",
   "nbconvert_exporter": "python",
   "pygments_lexer": "ipython3",
   "version": "3.6.7"
  },
  "toc": {
   "base_numbering": 1,
   "nav_menu": {},
   "number_sections": true,
   "sideBar": true,
   "skip_h1_title": false,
   "title_cell": "Table of Contents",
   "title_sidebar": "Contents",
   "toc_cell": false,
   "toc_position": {},
   "toc_section_display": true,
   "toc_window_display": false
  }
 },
 "nbformat": 4,
 "nbformat_minor": 2
}
