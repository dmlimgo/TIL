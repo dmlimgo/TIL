{
 "cells": [
  {
   "cell_type": "markdown",
   "metadata": {},
   "source": [
    "### 11654 아스키 코드"
   ]
  },
  {
   "cell_type": "code",
   "execution_count": 6,
   "metadata": {},
   "outputs": [
    {
     "name": "stdout",
     "output_type": "stream",
     "text": [
      "z\n",
      "122\n"
     ]
    }
   ],
   "source": [
    "N = input()\n",
    "print(ord(N))"
   ]
  },
  {
   "cell_type": "markdown",
   "metadata": {},
   "source": [
    "### 10809 알파벳 찾기"
   ]
  },
  {
   "cell_type": "code",
   "execution_count": 12,
   "metadata": {},
   "outputs": [
    {
     "name": "stdout",
     "output_type": "stream",
     "text": [
      "backjoonz\n",
      "1 0 2 -1 -1 -1 -1 -1 -1 4 3 -1 -1 7 5 -1 -1 -1 -1 -1 -1 -1 -1 -1 -1 8\n"
     ]
    }
   ],
   "source": [
    "n = input()\n",
    "a = 'abcdefghijklmnopqrstuvwxyz'\n",
    "for x in a:\n",
    "    if x in n:\n",
    "        if x == 'z':\n",
    "            print(n.index(x))\n",
    "        else:\n",
    "            print(n.index(x), end = ' ')\n",
    "    else:\n",
    "        if x == 'z':\n",
    "            print(-1)\n",
    "        else:\n",
    "            print(-1, end = ' ')"
   ]
  },
  {
   "cell_type": "markdown",
   "metadata": {},
   "source": [
    "### 2675 문자열 반복"
   ]
  },
  {
   "cell_type": "code",
   "execution_count": 23,
   "metadata": {},
   "outputs": [
    {
     "name": "stdout",
     "output_type": "stream",
     "text": [
      "2\n",
      "3 ABC\n",
      "AAABBBCCC\n",
      "5 /HTP\n",
      "/////HHHHHTTTTTPPPPP\n"
     ]
    }
   ],
   "source": [
    "t = int(input())\n",
    "for i in range(t):\n",
    "    rs = input().split()\n",
    "    for x in rs[1]:\n",
    "        print(x*int(rs[0]), end = '')\n",
    "    print()\n",
    "# 매 케이스마다 출력하려면 줄바꿈 해줘야함.."
   ]
  },
  {
   "cell_type": "markdown",
   "metadata": {},
   "source": [
    "### 1157 단어 공부"
   ]
  },
  {
   "cell_type": "code",
   "execution_count": 11,
   "metadata": {},
   "outputs": [
    {
     "name": "stdout",
     "output_type": "stream",
     "text": [
      "baaa\n",
      "A\n"
     ]
    }
   ],
   "source": [
    "n = input().upper()\n",
    "m = list(set(n))\n",
    "\n",
    "m2 = []\n",
    "maxnum = 0\n",
    "word = ''\n",
    "for x in m:\n",
    "    m2.append(n.count(x))\n",
    "    if n.count(x) > maxnum:\n",
    "        maxnum = n.count(x)\n",
    "        word = x\n",
    "if m2.count(max(m2)) > 1:\n",
    "    print('?')\n",
    "else:\n",
    "    print(word)"
   ]
  },
  {
   "cell_type": "markdown",
   "metadata": {},
   "source": [
    "### 1316 그룹 단어 체커"
   ]
  },
  {
   "cell_type": "code",
   "execution_count": 15,
   "metadata": {},
   "outputs": [
    {
     "name": "stdout",
     "output_type": "stream",
     "text": [
      "4\n",
      "aba\n",
      "abab\n",
      "abcabc\n",
      "a\n",
      "1\n"
     ]
    }
   ],
   "source": [
    "n = int(input())\n",
    "cnt = 0\n",
    "for w in range(n):\n",
    "    nw = []\n",
    "    word = list(input())\n",
    "    nw.append(word[0])\n",
    "    for i in range(len(word)-1):\n",
    "        if word[i] != word[i+1]:\n",
    "            nw.append(word[i+1])\n",
    "    for x in nw:\n",
    "        if nw.count(x) > 1:\n",
    "            break\n",
    "    else:\n",
    "        cnt += 1\n",
    "print(cnt)"
   ]
  },
  {
   "cell_type": "markdown",
   "metadata": {},
   "source": [
    "### 2908 상수"
   ]
  },
  {
   "cell_type": "code",
   "execution_count": 23,
   "metadata": {},
   "outputs": [
    {
     "name": "stdout",
     "output_type": "stream",
     "text": [
      "347 745\n",
      "['347', '745']\n",
      "743\n"
     ]
    }
   ],
   "source": [
    "n = input().split()\n",
    "a = n[0][::-1]\n",
    "b = n[1][::-1]\n",
    "\n",
    "if int(a) > int(b):\n",
    "    print(a)\n",
    "else:\n",
    "    print(b)"
   ]
  },
  {
   "cell_type": "markdown",
   "metadata": {},
   "source": [
    "### 5622 다이얼"
   ]
  },
  {
   "cell_type": "code",
   "execution_count": 27,
   "metadata": {},
   "outputs": [
    {
     "name": "stdout",
     "output_type": "stream",
     "text": [
      "ZAZ\n",
      "23\n"
     ]
    }
   ],
   "source": [
    "n = input()\n",
    "val = ['ABC','DEF','GHI','JKL','MNO','PQRS','TUV','WXYZ']\n",
    "time = 0\n",
    "for w in n:\n",
    "    for idx, x in enumerate(val):\n",
    "        if w in x:\n",
    "            time += idx + 3\n",
    "print(time)"
   ]
  },
  {
   "cell_type": "markdown",
   "metadata": {},
   "source": [
    "### 2941 크로아티아 알파벳"
   ]
  },
  {
   "cell_type": "code",
   "execution_count": 39,
   "metadata": {},
   "outputs": [
    {
     "name": "stdout",
     "output_type": "stream",
     "text": [
      "ddz=z=\n",
      "3\n"
     ]
    }
   ],
   "source": [
    "n = input()\n",
    "croa = ['c=','c-','dz=','d-','lj','nj','s=','z=']\n",
    "for x in croa:\n",
    "    if x in n:\n",
    "        n = n.replace(x,'I')\n",
    "print(len(n))"
   ]
  }
 ],
 "metadata": {
  "kernelspec": {
   "display_name": "Python 3",
   "language": "python",
   "name": "python3"
  },
  "language_info": {
   "codemirror_mode": {
    "name": "ipython",
    "version": 3
   },
   "file_extension": ".py",
   "mimetype": "text/x-python",
   "name": "python",
   "nbconvert_exporter": "python",
   "pygments_lexer": "ipython3",
   "version": "3.6.7"
  },
  "toc": {
   "base_numbering": 1,
   "nav_menu": {},
   "number_sections": true,
   "sideBar": true,
   "skip_h1_title": false,
   "title_cell": "Table of Contents",
   "title_sidebar": "Contents",
   "toc_cell": false,
   "toc_position": {},
   "toc_section_display": true,
   "toc_window_display": false
  }
 },
 "nbformat": 4,
 "nbformat_minor": 2
}
