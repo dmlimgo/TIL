{
 "cells": [
  {
   "cell_type": "markdown",
   "metadata": {},
   "source": [
    "### 1076 저항"
   ]
  },
  {
   "cell_type": "code",
   "execution_count": 21,
   "metadata": {},
   "outputs": [
    {
     "name": "stdout",
     "output_type": "stream",
     "text": [
      "yellow\n",
      "40\n",
      "violet\n",
      "7\n",
      "red\n",
      "0.2\n",
      "4700\n"
     ]
    }
   ],
   "source": [
    "R = {'black':[0, 1], 'brown':[1, 10], 'red':[2, 100], 'orange':[3, 1000],\n",
    "    'yellow':[4, 10000], 'green':[5, 100000], 'blue':[6,1000000],\n",
    "    'violet':[7, 10**7], 'grey':[8, 10**8], 'white':[9,10**9]}\n",
    "result = 0\n",
    "for i in range(3):\n",
    "    line = input()\n",
    "    if i < 2:\n",
    "        result += R[line][0] * 10**(1-i)\n",
    "    else:\n",
    "        result *= R[line][1]\n",
    "print(result)"
   ]
  },
  {
   "cell_type": "markdown",
   "metadata": {},
   "source": [
    "### 1371 가장 많은 글자"
   ]
  },
  {
   "cell_type": "code",
   "execution_count": 51,
   "metadata": {},
   "outputs": [
    {
     "name": "stdout",
     "output_type": "stream",
     "text": [
      "english is a west germanic language originating in england and is the first language for most people in the united kingdom the united states canada australia new zealand ireland and the anglophone caribbean it is used extensively as a second language and as an official language throughout the world especially in common wealth countries and in many international organizations\n",
      "\n",
      "a"
     ]
    }
   ],
   "source": [
    "string = []\n",
    "\n",
    "while True:\n",
    "    try:\n",
    "        input_str = input()\n",
    "        string.append(input_str)\n",
    "    except EOFError:\n",
    "        break\n",
    "\n",
    "freq_words = {}\n",
    "for words in string:\n",
    "    for char in words:\n",
    "        if char != ' ':\n",
    "            if char not in freq_words:\n",
    "                freq_words[char] = 1\n",
    "            else:\n",
    "                freq_words[char] += 1\n",
    "max_cnt = max(freq_words.values())\n",
    "freq_words = sorted(freq_words.items())\n",
    "\n",
    "for w in freq_words:\n",
    "    if w[1] == max_cnt:\n",
    "        print(w[0], end='')"
   ]
  },
  {
   "cell_type": "code",
   "execution_count": 52,
   "metadata": {},
   "outputs": [
    {
     "name": "stdout",
     "output_type": "stream",
     "text": [
      "abcdefghijklmnopqrstuvwxyz"
     ]
    }
   ],
   "source": [
    "# 다른사람꺼\n",
    "import sys\n",
    "\n",
    "x_array = [0]*26\n",
    "\n",
    "while (1):\n",
    "    try:\n",
    "        sentence = sys.stdin.readline()[:-1].replace(\" \", \"\")\n",
    "    #     if not sentence:\n",
    "    #         break\n",
    "        for s in sentence:\n",
    "            x_array[ord(s)-97] += 1\n",
    "    except EOFError:\n",
    "        break\n",
    "\n",
    "maxNum = max(x_array)\n",
    "\n",
    "for i in range(len(x_array)):\n",
    "    if(x_array[i] == maxNum):\n",
    "        print(chr(97 + i), end=\"\")"
   ]
  },
  {
   "cell_type": "code",
   "execution_count": 3,
   "metadata": {},
   "outputs": [
    {
     "name": "stdout",
     "output_type": "stream",
     "text": [
      "ㄹ\n",
      "+\n"
     ]
    },
    {
     "ename": "IndexError",
     "evalue": "list index out of range",
     "output_type": "error",
     "traceback": [
      "\u001b[1;31m---------------------------------------------------------------------------\u001b[0m",
      "\u001b[1;31mIndexError\u001b[0m                                Traceback (most recent call last)",
      "\u001b[1;32m<ipython-input-3-3b5841d7ce91>\u001b[0m in \u001b[0;36m<module>\u001b[1;34m\u001b[0m\n\u001b[0;32m      9\u001b[0m         \u001b[1;32mfor\u001b[0m \u001b[0ms\u001b[0m \u001b[1;32min\u001b[0m \u001b[0msentence\u001b[0m\u001b[1;33m:\u001b[0m\u001b[1;33m\u001b[0m\u001b[1;33m\u001b[0m\u001b[0m\n\u001b[0;32m     10\u001b[0m             \u001b[0mprint\u001b[0m\u001b[1;33m(\u001b[0m\u001b[1;34m'+'\u001b[0m\u001b[1;33m)\u001b[0m\u001b[1;33m\u001b[0m\u001b[1;33m\u001b[0m\u001b[0m\n\u001b[1;32m---> 11\u001b[1;33m             \u001b[0mx_array\u001b[0m\u001b[1;33m[\u001b[0m\u001b[0mord\u001b[0m\u001b[1;33m(\u001b[0m\u001b[0ms\u001b[0m\u001b[1;33m)\u001b[0m\u001b[1;33m-\u001b[0m\u001b[1;36m97\u001b[0m\u001b[1;33m]\u001b[0m \u001b[1;33m+=\u001b[0m \u001b[1;36m1\u001b[0m\u001b[1;33m\u001b[0m\u001b[1;33m\u001b[0m\u001b[0m\n\u001b[0m\u001b[0;32m     12\u001b[0m             \u001b[1;31m# EOF의 ASCII값이 없어서 오류\u001b[0m\u001b[1;33m\u001b[0m\u001b[1;33m\u001b[0m\u001b[1;33m\u001b[0m\u001b[0m\n\u001b[0;32m     13\u001b[0m     \u001b[1;32mexcept\u001b[0m \u001b[0mEOFError\u001b[0m\u001b[1;33m:\u001b[0m\u001b[1;33m\u001b[0m\u001b[1;33m\u001b[0m\u001b[0m\n",
      "\u001b[1;31mIndexError\u001b[0m: list index out of range"
     ]
    }
   ],
   "source": [
    "# 다른사람꺼 수정\n",
    "import sys\n",
    "\n",
    "x_array = [0]*26\n",
    "\n",
    "while (1):\n",
    "    try:\n",
    "        sentence = input().replace(\" \", \"\")\n",
    "        for s in sentence:\n",
    "            print('+')\n",
    "            x_array[ord(s)-97] += 1\n",
    "            # EOF의 ASCII값이 없어서 오류\n",
    "    except EOFError:\n",
    "        break\n",
    "\n",
    "maxNum = max(x_array)\n",
    "\n",
    "for i in range(len(x_array)):\n",
    "    if(x_array[i] == maxNum):\n",
    "        print(chr(97 + i), end=\"\")"
   ]
  },
  {
   "cell_type": "markdown",
   "metadata": {},
   "source": [
    "english is a west germanic\n",
    "language originating in england\n",
    "and is the first language for\n",
    "most people in the united\n",
    "kingdom the united states\n",
    "canada australia new zealand\n",
    "ireland and the anglophone\n",
    "caribbean it is used\n",
    "extensively as a second\n",
    "\n",
    "language and as an official\n",
    "language throughout the world\n",
    "especially in common wealth\n",
    "countries and in many\n",
    "international organizations"
   ]
  }
 ],
 "metadata": {
  "kernelspec": {
   "display_name": "Python 3",
   "language": "python",
   "name": "python3"
  },
  "language_info": {
   "codemirror_mode": {
    "name": "ipython",
    "version": 3
   },
   "file_extension": ".py",
   "mimetype": "text/x-python",
   "name": "python",
   "nbconvert_exporter": "python",
   "pygments_lexer": "ipython3",
   "version": "3.6.7"
  }
 },
 "nbformat": 4,
 "nbformat_minor": 2
}
