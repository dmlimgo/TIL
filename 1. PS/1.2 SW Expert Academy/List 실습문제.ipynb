{
 "cells": [
  {
   "cell_type": "markdown",
   "metadata": {},
   "source": [
    "### 4828 min max"
   ]
  },
  {
   "cell_type": "code",
   "execution_count": 1,
   "metadata": {},
   "outputs": [
    {
     "name": "stdout",
     "output_type": "stream",
     "text": [
      "3\n",
      "5\n",
      "477162 658880 751280 927930 297191\n",
      "#1 630739\n",
      "5\n",
      "565469 851600 460874 148692 111090\n",
      "#2 740510\n",
      "10\n",
      "784386 279993 982220 996285 614710 992232 195265 359810 919192 158175\n",
      "#3 838110\n"
     ]
    }
   ],
   "source": [
    "T = int(input())\n",
    "for i in range(T):\n",
    "    N = int(input())\n",
    "    a = list(map(int, input().split()))\n",
    "    amax = 0\n",
    "    amin = 1000001\n",
    "    for j in a:\n",
    "        if j > amax:\n",
    "            amax = j\n",
    "        elif j < amin:\n",
    "            amin = j           \n",
    "    print(f'#{i+1} {amax-amin}')"
   ]
  },
  {
   "cell_type": "markdown",
   "metadata": {},
   "source": [
    "###  4834 숫자카드"
   ]
  },
  {
   "cell_type": "code",
   "execution_count": 23,
   "metadata": {},
   "outputs": [
    {
     "name": "stdout",
     "output_type": "stream",
     "text": [
      "3\n",
      "5\n",
      "49679\n",
      "#1 9 2\n",
      "5\n",
      "08271\n",
      "#2 8 1\n",
      "10\n",
      "1\n",
      "#3 1 1\n"
     ]
    }
   ],
   "source": [
    "T = int(input())\n",
    "for i in range(T):\n",
    "    N = int(input())\n",
    "    a = input()\n",
    "    cl = [0]*10\n",
    "    clm = 0\n",
    "    nm = ''\n",
    "    for j in a:\n",
    "        cl[int(j)] += 1\n",
    "    for j in range(len(cl)):\n",
    "        if cl[j] >= clm:\n",
    "            clm = cl[j]\n",
    "            nm = j\n",
    "    print(f'#{i+1} {nm} {clm}')"
   ]
  },
  {
   "cell_type": "markdown",
   "metadata": {},
   "source": [
    "### 4835 구간합"
   ]
  },
  {
   "cell_type": "code",
   "execution_count": 11,
   "metadata": {},
   "outputs": [
    {
     "name": "stdout",
     "output_type": "stream",
     "text": [
      "1\n",
      "20 19\n",
      "3266 9419 3087 9001 9321 1341 7379 6236 5795 8910 2990 2152 2249 4059 1394 6871 4911 3648 1969 2176\n",
      "[20, 19]\n",
      "[3266, 9419, 3087, 9001, 9321, 1341, 7379, 6236, 5795, 8910, 2990, 2152, 2249, 4059, 1394, 6871, 4911, 3648, 1969, 2176]\n",
      "93998\n",
      "93998 93998\n",
      "92908\n",
      "93998 92908\n",
      "#1 1090\n"
     ]
    }
   ],
   "source": [
    "T = int(input())\n",
    "for i in range(T):\n",
    "    NM = list(map(int, input().split()))\n",
    "    a = list(map(int, input().split()))\n",
    "    for k in range(len(a) - NM[1] + 1):\n",
    "        s = 0\n",
    "        for j in range(NM[1]):\n",
    "            s += a[k+j]\n",
    "        if k == 0:\n",
    "            ma, mi = s, s\n",
    "        if ma < s:\n",
    "            ma = s\n",
    "        if s < mi:\n",
    "            mi = s\n",
    "    print(f'#{i+1} {ma-mi}')"
   ]
  },
  {
   "cell_type": "markdown",
   "metadata": {},
   "source": [
    "### 4831 전기버스"
   ]
  },
  {
   "cell_type": "code",
   "execution_count": 22,
   "metadata": {},
   "outputs": [
    {
     "name": "stdout",
     "output_type": "stream",
     "text": [
      "3\n",
      "3 10 5\n",
      "1 3 5 7 9\n",
      "#1 3\n",
      "3 10 5\n",
      "1 3 7 8 9\n",
      "#2 0\n",
      "5 20 5\n",
      "4 7 9 14 17\n",
      "#3 4\n"
     ]
    }
   ],
   "source": [
    "T = int(input())\n",
    "for p in range(T):\n",
    "    KNM = list(map(int, input().split()))\n",
    "    k, n, m = KNM[0], KNM[1], KNM[2]\n",
    "    char_s = list(map(int, input().split()))\n",
    "    bus = 0\n",
    "    chg = 0\n",
    "    m = 0\n",
    "    while True:\n",
    "        cnt = 0\n",
    "        for i in range(bus + 1, bus + k+1):\n",
    "            for t in char_s:\n",
    "                if i == t:\n",
    "                    cnt += 1\n",
    "                    m = t\n",
    "        if cnt > 0:\n",
    "            chg += 1\n",
    "        else:\n",
    "            print(f'#{p+1} 0')\n",
    "            break\n",
    "        bus = m\n",
    "        if bus + k >= n:\n",
    "            print(f'#{p+1} {chg}')\n",
    "            break"
   ]
  },
  {
   "cell_type": "code",
   "execution_count": 24,
   "metadata": {},
   "outputs": [
    {
     "data": {
      "text/plain": [
       "5"
      ]
     },
     "execution_count": 24,
     "metadata": {},
     "output_type": "execute_result"
    }
   ],
   "source": [
    "15%10"
   ]
  },
  {
   "cell_type": "code",
   "execution_count": null,
   "metadata": {},
   "outputs": [],
   "source": []
  },
  {
   "cell_type": "code",
   "execution_count": null,
   "metadata": {},
   "outputs": [],
   "source": []
  },
  {
   "cell_type": "code",
   "execution_count": null,
   "metadata": {},
   "outputs": [],
   "source": []
  },
  {
   "cell_type": "code",
   "execution_count": null,
   "metadata": {},
   "outputs": [],
   "source": []
  }
 ],
 "metadata": {
  "kernelspec": {
   "display_name": "Python 3",
   "language": "python",
   "name": "python3"
  },
  "language_info": {
   "codemirror_mode": {
    "name": "ipython",
    "version": 3
   },
   "file_extension": ".py",
   "mimetype": "text/x-python",
   "name": "python",
   "nbconvert_exporter": "python",
   "pygments_lexer": "ipython3",
   "version": "3.6.7"
  },
  "toc": {
   "base_numbering": 1,
   "nav_menu": {},
   "number_sections": true,
   "sideBar": true,
   "skip_h1_title": false,
   "title_cell": "Table of Contents",
   "title_sidebar": "Contents",
   "toc_cell": false,
   "toc_position": {},
   "toc_section_display": true,
   "toc_window_display": false
  }
 },
 "nbformat": 4,
 "nbformat_minor": 2
}
