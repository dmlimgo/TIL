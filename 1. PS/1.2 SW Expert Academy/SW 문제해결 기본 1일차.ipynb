{
 "cells": [
  {
   "cell_type": "markdown",
   "metadata": {},
   "source": [
    "### 1206 View"
   ]
  },
  {
   "cell_type": "code",
   "execution_count": null,
   "metadata": {},
   "outputs": [],
   "source": [
    "# import sys\n",
    "# sys.stdin = open(\"view_input.txt\")\n",
    "# T = 10\n",
    "for tc in range(T):\n",
    "    N = int(input())\n",
    "    data = list(map(int, input().split()))\n",
    "    cnt = 0\n",
    "    # print(data, len(data)-3)\n",
    "    for i in range(2, len(data)-2):\n",
    "        if data[i-1] < data[i] and data[i-2] < data[i]:\n",
    "            if data[i-1] > data[i-2]:\n",
    "                bigger = data[i-1]\n",
    "            else:\n",
    "                bigger = data[i-2]\n",
    "            for j in range(bigger, data[i]):\n",
    "                if j+1 > data[i+1] and j+1 > data[i+2]:\n",
    "                    cnt += 1\n",
    "    print(f'#{tc+1} {cnt}')"
   ]
  },
  {
   "cell_type": "code",
   "execution_count": null,
   "metadata": {},
   "outputs": [],
   "source": []
  },
  {
   "cell_type": "code",
   "execution_count": null,
   "metadata": {},
   "outputs": [],
   "source": []
  },
  {
   "cell_type": "code",
   "execution_count": null,
   "metadata": {},
   "outputs": [],
   "source": []
  },
  {
   "cell_type": "code",
   "execution_count": null,
   "metadata": {},
   "outputs": [],
   "source": []
  },
  {
   "cell_type": "code",
   "execution_count": null,
   "metadata": {},
   "outputs": [],
   "source": []
  }
 ],
 "metadata": {
  "kernelspec": {
   "display_name": "Python 3",
   "language": "python",
   "name": "python3"
  },
  "language_info": {
   "codemirror_mode": {
    "name": "ipython",
    "version": 3
   },
   "file_extension": ".py",
   "mimetype": "text/x-python",
   "name": "python",
   "nbconvert_exporter": "python",
   "pygments_lexer": "ipython3",
   "version": "3.6.7"
  },
  "toc": {
   "base_numbering": 1,
   "nav_menu": {},
   "number_sections": true,
   "sideBar": true,
   "skip_h1_title": false,
   "title_cell": "Table of Contents",
   "title_sidebar": "Contents",
   "toc_cell": false,
   "toc_position": {},
   "toc_section_display": true,
   "toc_window_display": false
  }
 },
 "nbformat": 4,
 "nbformat_minor": 2
}
