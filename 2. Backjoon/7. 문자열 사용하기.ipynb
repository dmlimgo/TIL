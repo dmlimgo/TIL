{
 "cells": [
  {
   "cell_type": "markdown",
   "metadata": {},
   "source": [
    "### 11654 아스키 코드"
   ]
  },
  {
   "cell_type": "code",
   "execution_count": 6,
   "metadata": {},
   "outputs": [
    {
     "name": "stdout",
     "output_type": "stream",
     "text": [
      "z\n",
      "122\n"
     ]
    }
   ],
   "source": [
    "N = input()\n",
    "print(ord(N))"
   ]
  },
  {
   "cell_type": "markdown",
   "metadata": {},
   "source": [
    "### 10809 알파벳 찾기"
   ]
  },
  {
   "cell_type": "code",
   "execution_count": 12,
   "metadata": {},
   "outputs": [
    {
     "name": "stdout",
     "output_type": "stream",
     "text": [
      "backjoonz\n",
      "1 0 2 -1 -1 -1 -1 -1 -1 4 3 -1 -1 7 5 -1 -1 -1 -1 -1 -1 -1 -1 -1 -1 8\n"
     ]
    }
   ],
   "source": [
    "n = input()\n",
    "a = 'abcdefghijklmnopqrstuvwxyz'\n",
    "for x in a:\n",
    "    if x in n:\n",
    "        if x == 'z':\n",
    "            print(n.index(x))\n",
    "        else:\n",
    "            print(n.index(x), end = ' ')\n",
    "    else:\n",
    "        if x == 'z':\n",
    "            print(-1)\n",
    "        else:\n",
    "            print(-1, end = ' ')"
   ]
  },
  {
   "cell_type": "markdown",
   "metadata": {},
   "source": [
    "### 2675 문자열 반복"
   ]
  },
  {
   "cell_type": "code",
   "execution_count": 23,
   "metadata": {},
   "outputs": [
    {
     "name": "stdout",
     "output_type": "stream",
     "text": [
      "2\n",
      "3 ABC\n",
      "AAABBBCCC\n",
      "5 /HTP\n",
      "/////HHHHHTTTTTPPPPP\n"
     ]
    }
   ],
   "source": [
    "t = int(input())\n",
    "for i in range(t):\n",
    "    rs = input().split()\n",
    "    for x in rs[1]:\n",
    "        print(x*int(rs[0]), end = '')\n",
    "    print()\n",
    "# 매 케이스마다 출력하려면 줄바꿈 해줘야함.."
   ]
  },
  {
   "cell_type": "markdown",
   "metadata": {},
   "source": [
    "### 1157 단어 공부"
   ]
  },
  {
   "cell_type": "code",
   "execution_count": 11,
   "metadata": {},
   "outputs": [
    {
     "name": "stdout",
     "output_type": "stream",
     "text": [
      "baaa\n",
      "A\n"
     ]
    }
   ],
   "source": [
    "n = input().upper()\n",
    "m = list(set(n))\n",
    "\n",
    "m2 = []\n",
    "maxnum = 0\n",
    "word = ''\n",
    "for x in m:\n",
    "    m2.append(n.count(x))\n",
    "    if n.count(x) > maxnum:\n",
    "        maxnum = n.count(x)\n",
    "        word = x\n",
    "if m2.count(max(m2)) > 1:\n",
    "    print('?')\n",
    "else:\n",
    "    print(word)"
   ]
  }
 ],
 "metadata": {
  "kernelspec": {
   "display_name": "Python 3",
   "language": "python",
   "name": "python3"
  },
  "language_info": {
   "codemirror_mode": {
    "name": "ipython",
    "version": 3
   },
   "file_extension": ".py",
   "mimetype": "text/x-python",
   "name": "python",
   "nbconvert_exporter": "python",
   "pygments_lexer": "ipython3",
   "version": "3.6.7"
  },
  "toc": {
   "base_numbering": 1,
   "nav_menu": {},
   "number_sections": true,
   "sideBar": true,
   "skip_h1_title": false,
   "title_cell": "Table of Contents",
   "title_sidebar": "Contents",
   "toc_cell": false,
   "toc_position": {},
   "toc_section_display": true,
   "toc_window_display": false
  }
 },
 "nbformat": 4,
 "nbformat_minor": 2
}
