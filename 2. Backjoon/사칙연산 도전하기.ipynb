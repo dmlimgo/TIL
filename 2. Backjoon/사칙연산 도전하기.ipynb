{
 "cells": [
  {
   "cell_type": "markdown",
   "metadata": {},
   "source": [
    "### 3. AxB"
   ]
  },
  {
   "cell_type": "code",
   "execution_count": 5,
   "metadata": {},
   "outputs": [
    {
     "name": "stdout",
     "output_type": "stream",
     "text": [
      "5 6 7\n",
      "30\n"
     ]
    }
   ],
   "source": [
    "a = input()\n",
    "b = a.split(' ')\n",
    "print(int(b[0]) * int(b[1]))"
   ]
  },
  {
   "cell_type": "markdown",
   "metadata": {},
   "source": [
    "###  4. A/B"
   ]
  },
  {
   "cell_type": "code",
   "execution_count": 10,
   "metadata": {},
   "outputs": [
    {
     "name": "stdout",
     "output_type": "stream",
     "text": [
      "1 3\n",
      "0.3333333333333333\n"
     ]
    }
   ],
   "source": [
    "a = input()\n",
    "b = a.split(' ')\n",
    "print(float(b[0]) / float(b[1]))"
   ]
  },
  {
   "cell_type": "markdown",
   "metadata": {},
   "source": [
    "* float는 상대오차가 1^-10인가까지 된다."
   ]
  },
  {
   "cell_type": "markdown",
   "metadata": {},
   "source": [
    "### 5. 사칙연산"
   ]
  },
  {
   "cell_type": "code",
   "execution_count": 5,
   "metadata": {},
   "outputs": [
    {
     "name": "stdout",
     "output_type": "stream",
     "text": [
      "5 8\n",
      "13\n",
      "-3\n",
      "40\n",
      "0\n",
      "5\n"
     ]
    }
   ],
   "source": [
    "import math\n",
    "a = input()\n",
    "b = a.split(' ')\n",
    "print(int(b[0]) + int(b[1]))\n",
    "print(int(b[0]) - int(b[1]))\n",
    "print(int(b[0]) * int(b[1]))\n",
    "print(math.trunc(int(b[0]) / int(b[1])))\n",
    "print(int(b[0]) % int(b[1]))"
   ]
  },
  {
   "cell_type": "markdown",
   "metadata": {},
   "source": [
    "* 몫이라는 걸 주의하자"
   ]
  },
  {
   "cell_type": "markdown",
   "metadata": {},
   "source": [
    "### 6. 나머지"
   ]
  },
  {
   "cell_type": "code",
   "execution_count": 10,
   "metadata": {},
   "outputs": [
    {
     "name": "stdout",
     "output_type": "stream",
     "text": [
      "5 8 4\n",
      "1\n",
      "1\n",
      "0\n",
      "0\n"
     ]
    }
   ],
   "source": [
    "a = input()\n",
    "b = a.split(' ')\n",
    "print((int(b[0]) + int(b[1])) % int(b[2]))\n",
    "print((int(b[0]) % int(b[2]) + int(b[1]) % int(b[2])) % int(b[2]))\n",
    "print((int(b[0]) * int(b[1])) % int(b[2]))\n",
    "print((int(b[0]) % int(b[2]) * int(b[1]) % int(b[2])) % int(b[2]))"
   ]
  },
  {
   "cell_type": "markdown",
   "metadata": {},
   "source": [
    "### 7. A+B - 2"
   ]
  },
  {
   "cell_type": "code",
   "execution_count": 14,
   "metadata": {},
   "outputs": [
    {
     "name": "stdout",
     "output_type": "stream",
     "text": [
      "1\n",
      "2\n",
      "3\n"
     ]
    }
   ],
   "source": [
    "a = input()\n",
    "b = input()\n",
    "print(int(a)+int(b))"
   ]
  },
  {
   "cell_type": "markdown",
   "metadata": {},
   "source": [
    "### 8. 설탕 배달"
   ]
  },
  {
   "cell_type": "code",
   "execution_count": 40,
   "metadata": {},
   "outputs": [
    {
     "name": "stdout",
     "output_type": "stream",
     "text": [
      "11\n",
      "-1\n",
      "5kg=2, 3kg=0\n"
     ]
    }
   ],
   "source": [
    "# N = int(input())\n",
    "# if ((N % 5) % 3) == 0:\n",
    "#     bag_num = int(N / 5) + int((N % 5) / 3)\n",
    "#     print(bag_num)\n",
    "# elif ((N % 3) % 5) == 0:\n",
    "#     bag_num = int(N / 3) + int((N % 3) / 5)\n",
    "#     print(bag_num)\n",
    "# elif (N % 3) == 0:\n",
    "#     bag_num = int(N / 3)\n",
    "#     print(bag_num)\n",
    "# elif (N % 5) == 0:\n",
    "#     bag_num = int(N / 5)\n",
    "#     print(bag_num)\n",
    "# else:\n",
    "#     print(-1)\n",
    "# print(f'5kg={int(N/5)}, 3kg={int((N%5)/3)}')"
   ]
  },
  {
   "cell_type": "code",
   "execution_count": 57,
   "metadata": {},
   "outputs": [
    {
     "name": "stdout",
     "output_type": "stream",
     "text": [
      "14\n",
      "4\n"
     ]
    }
   ],
   "source": [
    "N = int(input())\n",
    "min = 5000\n",
    "cnt = 0\n",
    "for x in range(2000):\n",
    "    for y in range(2000):\n",
    "        if N == 3 * x + 5 * y:\n",
    "            \n",
    "            \n",
    "            if (x + y) < min:\n",
    "                \n",
    "                min = x + y\n",
    "                \n",
    "            cnt += 1\n",
    "if cnt:\n",
    "    print(min)\n",
    "else:\n",
    "    print(-1)"
   ]
  }
 ],
 "metadata": {
  "kernelspec": {
   "display_name": "Python 3",
   "language": "python",
   "name": "python3"
  },
  "toc": {
   "base_numbering": 1,
   "nav_menu": {},
   "number_sections": true,
   "sideBar": true,
   "skip_h1_title": false,
   "title_cell": "Table of Contents",
   "title_sidebar": "Contents",
   "toc_cell": false,
   "toc_position": {},
   "toc_section_display": true,
   "toc_window_display": false
  }
 },
 "nbformat": 4,
 "nbformat_minor": 2
}
