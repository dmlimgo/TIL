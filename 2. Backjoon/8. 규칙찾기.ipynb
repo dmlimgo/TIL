{
 "cells": [
  {
   "cell_type": "markdown",
   "metadata": {},
   "source": [
    "### 2438 별 찍기 - 1"
   ]
  },
  {
   "cell_type": "markdown",
   "metadata": {},
   "source": [
    "###  2292 벌집"
   ]
  },
  {
   "cell_type": "code",
   "execution_count": 30,
   "metadata": {},
   "outputs": [
    {
     "name": "stdout",
     "output_type": "stream",
     "text": [
      "1000000000\n",
      "18258\n"
     ]
    }
   ],
   "source": [
    "n = int(input())\n",
    "pib = 0\n",
    "for i in range(n):\n",
    "    pib += i\n",
    "    if n == 1:\n",
    "        print(1)\n",
    "    elif (1 + 6 * pib) < n and n <= (1 + 6 * (pib + i +1)):\n",
    "        print(i+2)\n",
    "        break"
   ]
  },
  {
   "cell_type": "markdown",
   "metadata": {},
   "source": [
    "### 1193 분수찾기"
   ]
  },
  {
   "cell_type": "markdown",
   "metadata": {},
   "source": [
    "100번째 구하려면\n",
    "1+2+3...n 한 것이 100쯤 이어야함\n",
    "1,3,6,10,15,21,28,36,45,55,66,78,91(n=13),105(n=14)"
   ]
  },
  {
   "cell_type": "code",
   "execution_count": 66,
   "metadata": {},
   "outputs": [
    {
     "name": "stdout",
     "output_type": "stream",
     "text": [
      "7\n",
      "1/4\n"
     ]
    }
   ],
   "source": [
    "x = int(input())\n",
    "\n",
    "air = 0\n",
    "for i in range(1, x+1):\n",
    "    air += i\n",
    "    if air-i < x and x <= air:\n",
    "        if (i+1) % 2:\n",
    "            bunja = i - (air - x)\n",
    "            bunmo = (air - x) + 1\n",
    "        else:\n",
    "            bunja = (air - x) + 1\n",
    "            bunmo = i+1 - bunja\n",
    "            \n",
    "print(f'{bunja}/{bunmo}')"
   ]
  },
  {
   "cell_type": "code",
   "execution_count": null,
   "metadata": {},
   "outputs": [],
   "source": []
  },
  {
   "cell_type": "code",
   "execution_count": null,
   "metadata": {},
   "outputs": [],
   "source": []
  },
  {
   "cell_type": "code",
   "execution_count": null,
   "metadata": {},
   "outputs": [],
   "source": []
  }
 ],
 "metadata": {
  "kernelspec": {
   "display_name": "Python 3",
   "language": "python",
   "name": "python3"
  },
  "language_info": {
   "codemirror_mode": {
    "name": "ipython",
    "version": 3
   },
   "file_extension": ".py",
   "mimetype": "text/x-python",
   "name": "python",
   "nbconvert_exporter": "python",
   "pygments_lexer": "ipython3",
   "version": "3.6.7"
  },
  "toc": {
   "base_numbering": 1,
   "nav_menu": {},
   "number_sections": true,
   "sideBar": true,
   "skip_h1_title": false,
   "title_cell": "Table of Contents",
   "title_sidebar": "Contents",
   "toc_cell": false,
   "toc_position": {},
   "toc_section_display": true,
   "toc_window_display": false
  }
 },
 "nbformat": 4,
 "nbformat_minor": 2
}
