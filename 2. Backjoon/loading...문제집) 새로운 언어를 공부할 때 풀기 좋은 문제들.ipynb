{
 "cells": [
  {
   "cell_type": "markdown",
   "metadata": {},
   "source": [
    "### 1076 저항"
   ]
  },
  {
   "cell_type": "code",
   "execution_count": 21,
   "metadata": {},
   "outputs": [
    {
     "name": "stdout",
     "output_type": "stream",
     "text": [
      "yellow\n",
      "40\n",
      "violet\n",
      "7\n",
      "red\n",
      "0.2\n",
      "4700\n"
     ]
    }
   ],
   "source": [
    "R = {'black':[0, 1], 'brown':[1, 10], 'red':[2, 100], 'orange':[3, 1000],\n",
    "    'yellow':[4, 10000], 'green':[5, 100000], 'blue':[6,1000000],\n",
    "    'violet':[7, 10**7], 'grey':[8, 10**8], 'white':[9,10**9]}\n",
    "result = 0\n",
    "for i in range(3):\n",
    "    line = input()\n",
    "    if i < 2:\n",
    "        result += R[line][0] * 10**(1-i)\n",
    "    else:\n",
    "        result *= R[line][1]\n",
    "print(result)"
   ]
  },
  {
   "cell_type": "markdown",
   "metadata": {},
   "source": [
    "### 1371 가장 많은 글자"
   ]
  },
  {
   "cell_type": "code",
   "execution_count": 31,
   "metadata": {},
   "outputs": [
    {
     "name": "stdout",
     "output_type": "stream",
     "text": [
      "dang dj\n",
      "fjd\n",
      "\n",
      "{'char': 0}\n"
     ]
    }
   ],
   "source": [
    "string = []\n",
    "\n",
    "while True:\n",
    "    input_str = input()\n",
    "    if input_str == '':\n",
    "        break\n",
    "    else:\n",
    "        string.append(input_str)\n",
    "\n",
    "freq_words = {}\n",
    "for words in string:\n",
    "    for char in words:\n",
    "        if char not in freq_words:\n",
    "            freq_words.update(char = 0)\n",
    "        else:\n",
    "            freq_words[char] += 1\n",
    "print(freq_words)"
   ]
  },
  {
   "cell_type": "code",
   "execution_count": null,
   "metadata": {},
   "outputs": [],
   "source": []
  }
 ],
 "metadata": {
  "kernelspec": {
   "display_name": "Python 3",
   "language": "python",
   "name": "python3"
  },
  "language_info": {
   "codemirror_mode": {
    "name": "ipython",
    "version": 3
   },
   "file_extension": ".py",
   "mimetype": "text/x-python",
   "name": "python",
   "nbconvert_exporter": "python",
   "pygments_lexer": "ipython3",
   "version": "3.6.7"
  }
 },
 "nbformat": 4,
 "nbformat_minor": 2
}
