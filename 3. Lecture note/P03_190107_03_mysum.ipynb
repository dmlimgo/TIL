{
 "cells": [
  {
   "cell_type": "markdown",
   "metadata": {},
   "source": [
    "# 문자열 덧셈 하기 - 문자열 조작 및 반복/조건문 활용\n",
    "\n",
    "**문제 풀기 전에 어떻게 풀어야할지 생각부터 해봅시다!**\n",
    "\n",
    "> 사람은 덧셈을 할때 뒤에서부터 계산하고, 받아올림을 합니다.\n",
    "> \n",
    "> 문자열 2개를 받아 덧셈을 하여 숫자를 반환하는 함수 `my_sum(num1, num2)`을 만들어보세요.\n",
    "\n",
    "\n",
    "\n",
    "**절대로 `return int(num1)+int(num2)` 이렇게 풀지 맙시다!!**\n",
    "\n",
    "**재귀함수도 사용할 필요 없습니다.**"
   ]
  },
  {
   "cell_type": "code",
   "execution_count": 74,
   "metadata": {},
   "outputs": [
    {
     "data": {
      "text/plain": [
       "'3'"
      ]
     },
     "execution_count": 74,
     "metadata": {},
     "output_type": "execute_result"
    }
   ],
   "source": [
    "a = '123'\n",
    "a[0]\n",
    "a[-1]"
   ]
  },
  {
   "cell_type": "code",
   "execution_count": 92,
   "metadata": {},
   "outputs": [],
   "source": [
    "# 여기에 코드를 작성하시오.\n",
    "def my_sum(n1, n2):\n",
    "    res = ''\n",
    "    if len(n1) > len(n2):\n",
    "        n2 = '0' * abs(len(n1) - len(n2)) + n2\n",
    "        long = len(n1)\n",
    "    else:\n",
    "        n1 = '0' * abs(len(n1) - len(n2)) + n1\n",
    "        long = len(n2)\n",
    "    \n",
    "    quo = 0\n",
    "    for idx in range(1, long + 1):\n",
    "        res = str((quo + int(n1[-idx]) + int(n2[-idx])) % 10) + res\n",
    "        quo = int((quo + int(n1[-idx]) + int(n2[-idx])) / 10)        \n",
    "    return (str(quo) + res).lstrip('0')"
   ]
  },
  {
   "cell_type": "code",
   "execution_count": 101,
   "metadata": {},
   "outputs": [],
   "source": [
    "# 선생님 코드\n",
    "def my_sum(num1, num2):\n",
    "    len_num1 = len(num1)\n",
    "    len_num2 = len(num2)\n",
    "    if len_num1 > len_num2:\n",
    "        num2 = (len_num1 - len_num2) * '0' + num2\n",
    "    else:\n",
    "        num1 = (len_num2 - len_num1) * '0' + num1\n",
    "        \n",
    "    num1 = num1[::-1]\n",
    "    num2 = num2[::-1]\n",
    "    carry = 0\n",
    "    result = ''\n",
    "    for i in range(len(num1)):\n",
    "        carry, r = divmod((int(num1[i]) + int(num2[i]) + carry), 10)\n",
    "        result = str(r) + result\n",
    "    if carry == 1:\n",
    "        result = str(carry) + result\n",
    "    return result"
   ]
  },
  {
   "cell_type": "markdown",
   "metadata": {},
   "source": [
    "* 실제로는\n",
    "num2 = (len_num1 - len_num2) * '0' + num2\n",
    "만 있어도 어차피 string을 음수번 곱하면 빈문자가 되어 더해도 똑같다\n",
    "'0' * -3 + '9999' = '9999'"
   ]
  },
  {
   "cell_type": "markdown",
   "metadata": {},
   "source": [
    "* string 편하게 뒤집기\n",
    "''.join(reversed('123'))\n",
    "* list 편하게 뒤집기\n",
    "[1, 2, 3][::-1]\n",
    "list(reversed([1,2,3]))"
   ]
  },
  {
   "cell_type": "code",
   "execution_count": 102,
   "metadata": {},
   "outputs": [
    {
     "name": "stdout",
     "output_type": "stream",
     "text": [
      "8\n",
      "200\n",
      "10000\n",
      "100\n",
      "14\n"
     ]
    }
   ],
   "source": [
    "print(my_sum('3', '5'))\n",
    "print(my_sum('123', '77'))\n",
    "print(my_sum('1', '9999'))\n",
    "print(my_sum('22', '78'))\n",
    "print(my_sum('7','7'))"
   ]
  }
 ],
 "metadata": {
  "kernelspec": {
   "display_name": "Python 3",
   "language": "python",
   "name": "python3"
  },
  "language_info": {
   "codemirror_mode": {
    "name": "ipython",
    "version": 3
   },
   "file_extension": ".py",
   "mimetype": "text/x-python",
   "name": "python",
   "nbconvert_exporter": "python",
   "pygments_lexer": "ipython3",
   "version": "3.6.7"
  },
  "latex_envs": {
   "LaTeX_envs_menu_present": true,
   "autoclose": false,
   "autocomplete": true,
   "bibliofile": "biblio.bib",
   "cite_by": "apalike",
   "current_citInitial": 1,
   "eqLabelWithNumbers": true,
   "eqNumInitial": 1,
   "hotkeys": {
    "equation": "Ctrl-E",
    "itemize": "Ctrl-I"
   },
   "labels_anchors": false,
   "latex_user_defs": false,
   "report_style_numbering": false,
   "user_envs_cfg": false
  },
  "toc": {
   "base_numbering": 1,
   "nav_menu": {},
   "number_sections": true,
   "sideBar": true,
   "skip_h1_title": false,
   "title_cell": "Table of Contents",
   "title_sidebar": "Contents",
   "toc_cell": false,
   "toc_position": {},
   "toc_section_display": true,
   "toc_window_display": false
  }
 },
 "nbformat": 4,
 "nbformat_minor": 2
}
