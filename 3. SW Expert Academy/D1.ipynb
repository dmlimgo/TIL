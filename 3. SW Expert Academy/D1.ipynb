{
 "cells": [
  {
   "cell_type": "markdown",
   "metadata": {},
   "source": [
    "### 2072. 홀수만 더하기"
   ]
  },
  {
   "cell_type": "code",
   "execution_count": 3,
   "metadata": {},
   "outputs": [
    {
     "name": "stdout",
     "output_type": "stream",
     "text": [
      "3\n",
      "3 17 1 39 8 41 2 32 99 2\n",
      "#1 200\n",
      "22 8 5 123 7 2 63 7 3 46\n",
      "#2 208\n",
      "6 63 2 3 58 76 21 33 8 1 \n",
      "#3 121\n"
     ]
    }
   ],
   "source": [
    "T = int(input())\n",
    "for i in range(T):\n",
    "    case = list(map(int, input().split()))\n",
    "    result = 0\n",
    "    for x in case:\n",
    "        if x % 2:\n",
    "            result += x\n",
    "    print(f'#{i+1} {result}')"
   ]
  },
  {
   "cell_type": "markdown",
   "metadata": {},
   "source": [
    "###  2071. 평균값 구하기"
   ]
  },
  {
   "cell_type": "code",
   "execution_count": 12,
   "metadata": {},
   "outputs": [
    {
     "name": "stdout",
     "output_type": "stream",
     "text": [
      "3\n",
      "3 17 1 39 8 41 2 32 99 2\n",
      "#1 24\n",
      "22 8 5 123 7 2 63 7 3 46\n",
      "#2 29\n",
      "6 63 2 3 58 76 21 33 8 1   \n",
      "#3 27\n"
     ]
    }
   ],
   "source": [
    "T = int(input())\n",
    "for i in range(T):\n",
    "    case = list(map(int, input().split()))\n",
    "    avg = round(sum(case) / len(case))\n",
    "    print(f'#{i+1} {avg}')"
   ]
  },
  {
   "cell_type": "markdown",
   "metadata": {},
   "source": [
    "### 2070. 큰 놈, 작은 놈, 같은 놈"
   ]
  },
  {
   "cell_type": "code",
   "execution_count": 13,
   "metadata": {},
   "outputs": [
    {
     "name": "stdout",
     "output_type": "stream",
     "text": [
      "3\n",
      "3 8\n",
      "#1 <\n",
      "7 7\n",
      "#2 =\n",
      "369 123\n",
      "#3 >\n"
     ]
    }
   ],
   "source": [
    "T = int(input())\n",
    "for i in range(T):\n",
    "    result = ''\n",
    "    case = list(map(int, input().split()))\n",
    "    if case[0] > case[1]:\n",
    "        result = '>' \n",
    "    elif case[0] == case[1]:\n",
    "        result = '='\n",
    "    else:\n",
    "        result = '<'\n",
    "    \n",
    "    print(f'#{i+1} {result}')"
   ]
  },
  {
   "cell_type": "markdown",
   "metadata": {},
   "source": [
    "### 2068. 최대수 구하기"
   ]
  },
  {
   "cell_type": "code",
   "execution_count": 14,
   "metadata": {},
   "outputs": [
    {
     "name": "stdout",
     "output_type": "stream",
     "text": [
      "3\n",
      "3 17 1 39 8 41 2 32 99 2\n",
      "#1 99\n",
      "22 8 5 123 7 2 63 7 3 46\n",
      "#2 123\n",
      "6 63 2 3 58 76 21 33 8 1   \n",
      "#3 76\n"
     ]
    }
   ],
   "source": [
    "T = int(input())\n",
    "for i in range(T):\n",
    "    big = max(list(map(int, input().split())))\n",
    "    print(f'#{i+1} {big}')"
   ]
  },
  {
   "cell_type": "markdown",
   "metadata": {},
   "source": [
    "### 2063. 중간값 찾기"
   ]
  },
  {
   "cell_type": "code",
   "execution_count": 7,
   "metadata": {},
   "outputs": [
    {
     "name": "stdout",
     "output_type": "stream",
     "text": [
      "199\n",
      "85 72 38 80 69 65 68 96 22 49 67 51 61 63 87 66 24 80 83 71 60 64 52 90 60 49 31 23 99 94 11 25 24 51 15 13 39 67 97 19 76 12 33 99 18 92 35 74 0 95 71 39 33 39 32 37 45 57 71 95 5 71 24 86 8 51 54 74 24 75 70 33 63 29 99 59 94 52 13 35 99 46 57 71 23 17 3 94 48 77 18 83 11 83 25 59 62 2 78 86 7 94 65 80 32 39 84 60 65 72 61 58 84 8 72 12 19 47 49 49 59 71 52 34 22 21 20 92 33 80 39 74 9 28 97 100 93 29 25 4 66 79 81 98 21 91 62 82 4 59 100 34 1 51 80 92 69 77 39 38 97 51 34 35 19 22 1 67 9 90 31 82 11 51 84 78 70 74 42 100 88 53 80 57 62 32 51 48 63 92 46 4 61 31 98 69 52 88 20\n",
      "#1 58\n"
     ]
    }
   ],
   "source": [
    "N = int(input())\n",
    "case = list(map(int, input().split()))\n",
    "case = sorted(case)\n",
    "mid = case[round(N / 2)-1]\n",
    "print(mid)"
   ]
  },
  {
   "cell_type": "markdown",
   "metadata": {},
   "source": [
    "### 2058. 자릿수 더하기"
   ]
  },
  {
   "cell_type": "code",
   "execution_count": 11,
   "metadata": {
    "scrolled": true
   },
   "outputs": [
    {
     "name": "stdout",
     "output_type": "stream",
     "text": [
      "1234\n",
      "10\n"
     ]
    }
   ],
   "source": [
    "result = sum(list(map(int,list(input()))))\n",
    "print(result)"
   ]
  },
  {
   "cell_type": "markdown",
   "metadata": {},
   "source": [
    "### 2056. 연월일 달력"
   ]
  },
  {
   "cell_type": "code",
   "execution_count": 1,
   "metadata": {},
   "outputs": [
    {
     "name": "stdout",
     "output_type": "stream",
     "text": [
      "5\n",
      "22220228\n",
      "#1 2222/02/28\n",
      "20150002\n",
      "#2 -1\n",
      "01010101\n",
      "#3 0101/01/01\n",
      "20140230\n",
      "#4 -1\n",
      "11111111\n",
      "#5 1111/11/11\n"
     ]
    }
   ],
   "source": [
    "T = int(input())\n",
    "month = ['01','02','03','04','05','06','07','08','09','10','11','12']\n",
    "day = [31,28,31,30,31,30,31,31,30,31,30,31]\n",
    "\n",
    "for i in range(T):\n",
    "    result = ''\n",
    "    case = input()\n",
    "    result += case[:4] + '/'\n",
    "\n",
    "    if case[4:6] in month:\n",
    "        result += case[4:6] + '/'\n",
    "    else:\n",
    "        result = '-1'\n",
    "        print(f'#{i+1} {result}')\n",
    "        continue\n",
    "        \n",
    "    if int(case[-2:]) in range(1, day[int(case[4:6])-1]+1):\n",
    "        result += case[-2:]\n",
    "    else:\n",
    "        result = '-1'\n",
    "        print(f'#{i+1} {result}')\n",
    "        continue\n",
    "    print(f'#{i+1} {result}')"
   ]
  },
  {
   "cell_type": "markdown",
   "metadata": {},
   "source": [
    "### 2050. 알파벳을 숫자로 변환"
   ]
  },
  {
   "cell_type": "code",
   "execution_count": 10,
   "metadata": {},
   "outputs": [
    {
     "name": "stdout",
     "output_type": "stream",
     "text": [
      "ABCDEFGHIJKLMNOPQRSTUVWXYZ\n",
      "1 2 3 4 5 6 7 8 9 10 11 12 13 14 15 16 17 18 19 20 21 22 23 24 25 26\n"
     ]
    }
   ],
   "source": [
    "x = input()\n",
    "result = ''\n",
    "for word in x:\n",
    "    result += ' ' + str(ord(word)-64)\n",
    "print(result.lstrip())"
   ]
  },
  {
   "cell_type": "markdown",
   "metadata": {},
   "source": [
    "### 2047. 신문 헤드라인"
   ]
  },
  {
   "cell_type": "code",
   "execution_count": 13,
   "metadata": {},
   "outputs": [
    {
     "name": "stdout",
     "output_type": "stream",
     "text": [
      "The_headline_is_the_text_indicating_the_nature_of_the_article_below_it.\n",
      "THE_HEADLINE_IS_THE_TEXT_INDICATING_THE_NATURE_OF_THE_ARTICLE_BELOW_IT.\n"
     ]
    }
   ],
   "source": [
    "n = input().upper()\n",
    "print(n)"
   ]
  },
  {
   "cell_type": "markdown",
   "metadata": {},
   "source": [
    "### 2046. 스탬프 찍기"
   ]
  },
  {
   "cell_type": "code",
   "execution_count": 14,
   "metadata": {},
   "outputs": [
    {
     "name": "stdout",
     "output_type": "stream",
     "text": [
      "3\n",
      "###"
     ]
    }
   ],
   "source": [
    "x = int(input())\n",
    "for i in range(x):\n",
    "    print('#', end='')"
   ]
  },
  {
   "cell_type": "markdown",
   "metadata": {},
   "source": [
    "### 2043. 서랍의 비밀번호"
   ]
  },
  {
   "cell_type": "code",
   "execution_count": 16,
   "metadata": {},
   "outputs": [
    {
     "name": "stdout",
     "output_type": "stream",
     "text": [
      "123 100\n",
      "24\n"
     ]
    }
   ],
   "source": [
    "x = list(map(int, input().split()))\n",
    "print(x[0]-x[1]+1)"
   ]
  },
  {
   "cell_type": "markdown",
   "metadata": {},
   "source": [
    "###  2029. 몫과 나머지 출력하기"
   ]
  },
  {
   "cell_type": "code",
   "execution_count": 20,
   "metadata": {},
   "outputs": [
    {
     "name": "stdout",
     "output_type": "stream",
     "text": [
      "3\n",
      "9 2\n",
      "#1 4 1\n",
      "15 6\n",
      "#2 2 3\n",
      "369 15\n",
      "#3 24 9\n"
     ]
    }
   ],
   "source": [
    "T = int(input())\n",
    "for i in range(T):\n",
    "    ab = list(map(int, input().split()))\n",
    "    ab = divmod(ab[0],ab[1])\n",
    "    print(f'#{i+1} {ab[0]} {ab[1]}')"
   ]
  },
  {
   "cell_type": "code",
   "execution_count": 19,
   "metadata": {},
   "outputs": [
    {
     "data": {
      "text/plain": [
       "tuple"
      ]
     },
     "execution_count": 19,
     "metadata": {},
     "output_type": "execute_result"
    }
   ],
   "source": [
    "type(divmod(15,6))"
   ]
  },
  {
   "cell_type": "markdown",
   "metadata": {},
   "source": [
    "### 2027. 대각선 출력하기"
   ]
  },
  {
   "cell_type": "code",
   "execution_count": null,
   "metadata": {},
   "outputs": [],
   "source": [
    "print('#++++')\n",
    "print('+#+++')\n",
    "print('++#++')\n",
    "print('+++#+')\n",
    "print('++++#')"
   ]
  },
  {
   "cell_type": "markdown",
   "metadata": {},
   "source": [
    "###  2025. N줄덧셈"
   ]
  },
  {
   "cell_type": "code",
   "execution_count": 24,
   "metadata": {},
   "outputs": [
    {
     "name": "stdout",
     "output_type": "stream",
     "text": [
      "9\n",
      "45\n"
     ]
    }
   ],
   "source": [
    "m = int(input())\n",
    "total = 0\n",
    "for i in range(1, m+1):\n",
    "    total += i\n",
    "print(total)"
   ]
  },
  {
   "cell_type": "markdown",
   "metadata": {},
   "source": [
    "###  1938. 아주 간단한 계산기"
   ]
  },
  {
   "cell_type": "code",
   "execution_count": 2,
   "metadata": {},
   "outputs": [
    {
     "name": "stdout",
     "output_type": "stream",
     "text": [
      "8 3\n",
      "11\n",
      "5\n",
      "24\n",
      "2\n"
     ]
    }
   ],
   "source": [
    "n = list(map(int, input().split()))\n",
    "print(n[0]+n[1])\n",
    "print(n[0]-n[1])\n",
    "print(n[0]*n[1])\n",
    "print(int(n[0]/n[1]))"
   ]
  },
  {
   "cell_type": "markdown",
   "metadata": {},
   "source": [
    "### 1933. 간단한 N의 약수"
   ]
  },
  {
   "cell_type": "code",
   "execution_count": 11,
   "metadata": {},
   "outputs": [
    {
     "name": "stdout",
     "output_type": "stream",
     "text": [
      "10\n",
      "1 2 5 10\n"
     ]
    }
   ],
   "source": [
    "N = int(input())\n",
    "result = [div_num for div_num in range(1, N+1) if not N % div_num]\n",
    "print(' '.join(list(map(str, sorted(result)))))"
   ]
  },
  {
   "cell_type": "code",
   "execution_count": 15,
   "metadata": {},
   "outputs": [
    {
     "name": "stdout",
     "output_type": "stream",
     "text": [
      "10\n",
      "1 2 5 10 "
     ]
    },
    {
     "data": {
      "text/plain": [
       "[None, None, None, None]"
      ]
     },
     "execution_count": 15,
     "metadata": {},
     "output_type": "execute_result"
    }
   ],
   "source": [
    "k=int(input())\n",
    "[print(f'{i} ',end='') for i in range(1,k+1) if k%i==0]"
   ]
  },
  {
   "cell_type": "markdown",
   "metadata": {},
   "source": [
    "### 1936. 1대1 가위바위보"
   ]
  },
  {
   "cell_type": "code",
   "execution_count": 23,
   "metadata": {},
   "outputs": [
    {
     "name": "stdout",
     "output_type": "stream",
     "text": [
      "3 2\n",
      "A\n"
     ]
    }
   ],
   "source": [
    "AB = list(map(int, input().split()))\n",
    "if (AB[0]-AB[1]) == 1 or (AB[0]-AB[1]) == -2:\n",
    "    print('A')\n",
    "elif (AB[0]-AB[1]) == -1 or (AB[0]-AB[1]) == 2:\n",
    "    print('B')"
   ]
  },
  {
   "cell_type": "markdown",
   "metadata": {},
   "source": [
    "### 2019. 더블더블"
   ]
  },
  {
   "cell_type": "code",
   "execution_count": 31,
   "metadata": {},
   "outputs": [
    {
     "name": "stdout",
     "output_type": "stream",
     "text": [
      "7\n",
      "1 2 4 8 16 32 64 128 "
     ]
    },
    {
     "data": {
      "text/plain": [
       "[None, None, None, None, None, None, None, None]"
      ]
     },
     "execution_count": 31,
     "metadata": {},
     "output_type": "execute_result"
    }
   ],
   "source": [
    "n = int(input())\n",
    "[print(f'{2**i} ',end = '') for i in range(n+1)]"
   ]
  },
  {
   "cell_type": "markdown",
   "metadata": {},
   "source": [
    "### 1545. 거꾸로 출력해 보아요"
   ]
  },
  {
   "cell_type": "code",
   "execution_count": 33,
   "metadata": {},
   "outputs": [
    {
     "name": "stdout",
     "output_type": "stream",
     "text": [
      "8\n",
      "8 7 6 5 4 3 2 1 0 "
     ]
    },
    {
     "data": {
      "text/plain": [
       "[None, None, None, None, None, None, None, None, None]"
      ]
     },
     "execution_count": 33,
     "metadata": {},
     "output_type": "execute_result"
    }
   ],
   "source": [
    "n = int(input())\n",
    "[print(f'{n-i} ',end='')for i in range(n+1)]"
   ]
  }
 ],
 "metadata": {
  "kernelspec": {
   "display_name": "Python 3",
   "language": "python",
   "name": "python3"
  },
  "language_info": {
   "codemirror_mode": {
    "name": "ipython",
    "version": 3
   },
   "file_extension": ".py",
   "mimetype": "text/x-python",
   "name": "python",
   "nbconvert_exporter": "python",
   "pygments_lexer": "ipython3",
   "version": "3.6.7"
  },
  "toc": {
   "base_numbering": 1,
   "nav_menu": {},
   "number_sections": true,
   "sideBar": true,
   "skip_h1_title": false,
   "title_cell": "Table of Contents",
   "title_sidebar": "Contents",
   "toc_cell": false,
   "toc_position": {},
   "toc_section_display": true,
   "toc_window_display": false
  }
 },
 "nbformat": 4,
 "nbformat_minor": 2
}
