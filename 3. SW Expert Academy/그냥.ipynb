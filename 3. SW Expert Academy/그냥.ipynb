{
 "cells": [
  {
   "cell_type": "code",
   "execution_count": 9,
   "metadata": {},
   "outputs": [
    {
     "name": "stdout",
     "output_type": "stream",
     "text": [
      "1.9999999999999993\n"
     ]
    }
   ],
   "source": [
    "x1=0\n",
    "y1=0\n",
    "x2=2\n",
    "y2=0\n",
    "x3=0\n",
    "y3=2\n",
    "tri = [(x1,y1), (x2,y2), (x3,y3)]\n",
    "a= ((x1-x2)**2 + (y1-y2)**2)**0.5\n",
    "b= ((x2-x3)**2 + (y2-y3)**2)**0.5\n",
    "c= ((x3-x1)**2 + (y3-y1)**2)**0.5\n",
    "s = (a+b+c)/2\n",
    "S = (s*(s-a)*(s-b)*(s-c))**0.5\n",
    "print(S)\n"
   ]
  }
 ],
 "metadata": {
  "kernelspec": {
   "display_name": "Python 3",
   "language": "python",
   "name": "python3"
  },
  "language_info": {
   "codemirror_mode": {
    "name": "ipython",
    "version": 3
   },
   "file_extension": ".py",
   "mimetype": "text/x-python",
   "name": "python",
   "nbconvert_exporter": "python",
   "pygments_lexer": "ipython3",
   "version": "3.6.7"
  }
 },
 "nbformat": 4,
 "nbformat_minor": 2
}
